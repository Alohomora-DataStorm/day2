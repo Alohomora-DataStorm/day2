{
 "cells": [
  {
   "cell_type": "code",
   "execution_count": 1,
   "metadata": {},
   "outputs": [],
   "source": [
    "import pandas as pd\n",
    "import numpy as np\n",
    "from sklearn.model_selection import train_test_split, GridSearchCV\n",
    "from sklearn.ensemble import RandomForestClassifier\n",
    "from sklearn.metrics import f1_score, classification_report"
   ]
  },
  {
   "cell_type": "code",
   "execution_count": 2,
   "metadata": {},
   "outputs": [],
   "source": [
    "# 2.1.1 Merge datasets\n",
    "historical_data = pd.read_csv('Historical-transaction-data.csv')\n",
    "store_data = pd.read_csv('Store-info.csv')\n",
    "merged_data = historical_data.merge(store_data, on='shop_id', how='left')"
   ]
  },
  {
   "cell_type": "code",
   "execution_count": 3,
   "metadata": {},
   "outputs": [],
   "source": [
    "# 2.1.2 Handle missing values\n",
    "training_data = merged_data[~merged_data['shop_profile'].isnull()]\n",
    "prediction_data = merged_data[merged_data['shop_profile'].isnull()]"
   ]
  },
  {
   "cell_type": "code",
   "execution_count": 4,
   "metadata": {},
   "outputs": [
    {
     "name": "stderr",
     "output_type": "stream",
     "text": [
      "C:\\Users\\naham\\AppData\\Local\\Temp\\ipykernel_21976\\1301188028.py:2: SettingWithCopyWarning: \n",
      "A value is trying to be set on a copy of a slice from a DataFrame.\n",
      "Try using .loc[row_indexer,col_indexer] = value instead\n",
      "\n",
      "See the caveats in the documentation: https://pandas.pydata.org/pandas-docs/stable/user_guide/indexing.html#returning-a-view-versus-a-copy\n",
      "  training_data['total_sales'] = training_data['quantity_sold'] * training_data['item_price']\n",
      "C:\\Users\\naham\\AppData\\Local\\Temp\\ipykernel_21976\\1301188028.py:3: SettingWithCopyWarning: \n",
      "A value is trying to be set on a copy of a slice from a DataFrame.\n",
      "Try using .loc[row_indexer,col_indexer] = value instead\n",
      "\n",
      "See the caveats in the documentation: https://pandas.pydata.org/pandas-docs/stable/user_guide/indexing.html#returning-a-view-versus-a-copy\n",
      "  training_data['transaction_month'] = pd.to_datetime(training_data['transaction_date']).dt.month\n"
     ]
    }
   ],
   "source": [
    "# 2.1.3 Feature engineering\n",
    "training_data['total_sales'] = training_data['quantity_sold'] * training_data['item_price']\n",
    "training_data['transaction_month'] = pd.to_datetime(training_data['transaction_date']).dt.month"
   ]
  },
  {
   "cell_type": "code",
   "execution_count": 5,
   "metadata": {},
   "outputs": [
    {
     "name": "stderr",
     "output_type": "stream",
     "text": [
      "c:\\Users\\naham\\AppData\\Local\\Programs\\Python\\Python39\\lib\\site-packages\\pandas\\core\\indexing.py:1773: SettingWithCopyWarning: \n",
      "A value is trying to be set on a copy of a slice from a DataFrame.\n",
      "Try using .loc[row_indexer,col_indexer] = value instead\n",
      "\n",
      "See the caveats in the documentation: https://pandas.pydata.org/pandas-docs/stable/user_guide/indexing.html#returning-a-view-versus-a-copy\n",
      "  self._setitem_single_column(ilocs[0], value, pi)\n",
      "c:\\Users\\naham\\AppData\\Local\\Programs\\Python\\Python39\\lib\\site-packages\\pandas\\core\\indexing.py:1667: SettingWithCopyWarning: \n",
      "A value is trying to be set on a copy of a slice from a DataFrame.\n",
      "Try using .loc[row_indexer,col_indexer] = value instead\n",
      "\n",
      "See the caveats in the documentation: https://pandas.pydata.org/pandas-docs/stable/user_guide/indexing.html#returning-a-view-versus-a-copy\n",
      "  self.obj[key] = value\n"
     ]
    }
   ],
   "source": [
    "# 2.1.3 Feature engineering\n",
    "# Create new features using .loc[] accessor to avoid SettingWithCopyWarning\n",
    "training_data.loc[:, 'total_sales'] = training_data.loc[:, 'quantity_sold'] * training_data.loc[:, 'item_price']\n",
    "training_data.loc[:, 'transaction_month'] = pd.to_datetime(training_data.loc[:, 'transaction_date']).dt.month\n",
    "\n",
    "# 2.4 Predicting Missing Store Profiles\n",
    "# Feature engineering for the prediction dataset using .loc[] accessor\n",
    "prediction_data.loc[:, 'total_sales'] = prediction_data.loc[:, 'quantity_sold'] * prediction_data.loc[:, 'item_price']\n",
    "prediction_data.loc[:, 'transaction_month'] = pd.to_datetime(prediction_data.loc[:, 'transaction_date']).dt.month\n"
   ]
  },
  {
   "cell_type": "code",
   "execution_count": 6,
   "metadata": {},
   "outputs": [],
   "source": [
    "# Create a separate copy of the DataFrame slice and perform feature engineering\n",
    "training_data = training_data.copy()\n",
    "training_data['total_sales'] = training_data['quantity_sold'] * training_data['item_price']\n",
    "training_data['transaction_month'] = pd.to_datetime(training_data['transaction_date']).dt.month\n",
    "\n",
    "# Feature engineering for the prediction dataset\n",
    "prediction_data = prediction_data.copy()\n",
    "prediction_data['total_sales'] = prediction_data['quantity_sold'] * prediction_data['item_price']\n",
    "prediction_data['transaction_month'] = pd.to_datetime(prediction_data['transaction_date']).dt.month\n"
   ]
  },
  {
   "cell_type": "code",
   "execution_count": 7,
   "metadata": {},
   "outputs": [
    {
     "data": {
      "text/html": [
       "<div>\n",
       "<style scoped>\n",
       "    .dataframe tbody tr th:only-of-type {\n",
       "        vertical-align: middle;\n",
       "    }\n",
       "\n",
       "    .dataframe tbody tr th {\n",
       "        vertical-align: top;\n",
       "    }\n",
       "\n",
       "    .dataframe thead th {\n",
       "        text-align: right;\n",
       "    }\n",
       "</style>\n",
       "<table border=\"1\" class=\"dataframe\">\n",
       "  <thead>\n",
       "    <tr style=\"text-align: right;\">\n",
       "      <th></th>\n",
       "      <th>item_description</th>\n",
       "      <th>transaction_date</th>\n",
       "      <th>invoice_id</th>\n",
       "      <th>customer_id</th>\n",
       "      <th>shop_id</th>\n",
       "      <th>item_price</th>\n",
       "      <th>quantity_sold</th>\n",
       "      <th>shop_area_sq_ft</th>\n",
       "      <th>shop_profile</th>\n",
       "      <th>total_sales</th>\n",
       "      <th>transaction_month</th>\n",
       "    </tr>\n",
       "  </thead>\n",
       "  <tbody>\n",
       "    <tr>\n",
       "      <th>0</th>\n",
       "      <td>ORANGE BARLEY 1.5L</td>\n",
       "      <td>2021-12-11T00:00:00.000Z</td>\n",
       "      <td>147.0</td>\n",
       "      <td>BGXA</td>\n",
       "      <td>SHOP008</td>\n",
       "      <td>220</td>\n",
       "      <td>2</td>\n",
       "      <td>678</td>\n",
       "      <td>Moderate</td>\n",
       "      <td>440</td>\n",
       "      <td>12</td>\n",
       "    </tr>\n",
       "    <tr>\n",
       "      <th>1</th>\n",
       "      <td>GINGER BEER 1.5L</td>\n",
       "      <td>2021-10-17T00:00:00.000Z</td>\n",
       "      <td>371.0</td>\n",
       "      <td>IA25</td>\n",
       "      <td>SHOP112</td>\n",
       "      <td>220</td>\n",
       "      <td>2</td>\n",
       "      <td>668</td>\n",
       "      <td>Moderate</td>\n",
       "      <td>440</td>\n",
       "      <td>10</td>\n",
       "    </tr>\n",
       "    <tr>\n",
       "      <th>2</th>\n",
       "      <td>TONIC PET 500ML</td>\n",
       "      <td>2021-12-13T00:00:00.000Z</td>\n",
       "      <td>484.0</td>\n",
       "      <td>VN7V</td>\n",
       "      <td>SHOP008</td>\n",
       "      <td>160</td>\n",
       "      <td>2</td>\n",
       "      <td>678</td>\n",
       "      <td>Moderate</td>\n",
       "      <td>320</td>\n",
       "      <td>12</td>\n",
       "    </tr>\n",
       "    <tr>\n",
       "      <th>3</th>\n",
       "      <td>CREAM SODA 1L</td>\n",
       "      <td>2021-12-13T00:00:00.000Z</td>\n",
       "      <td>484.0</td>\n",
       "      <td>VN7V</td>\n",
       "      <td>SHOP008</td>\n",
       "      <td>150</td>\n",
       "      <td>2</td>\n",
       "      <td>678</td>\n",
       "      <td>Moderate</td>\n",
       "      <td>300</td>\n",
       "      <td>12</td>\n",
       "    </tr>\n",
       "    <tr>\n",
       "      <th>4</th>\n",
       "      <td>STRAWBERRY MILK 180ML</td>\n",
       "      <td>2021-10-23T00:00:00.000Z</td>\n",
       "      <td>1310.0</td>\n",
       "      <td>7S00</td>\n",
       "      <td>SHOP112</td>\n",
       "      <td>210</td>\n",
       "      <td>5</td>\n",
       "      <td>668</td>\n",
       "      <td>Moderate</td>\n",
       "      <td>1050</td>\n",
       "      <td>10</td>\n",
       "    </tr>\n",
       "  </tbody>\n",
       "</table>\n",
       "</div>"
      ],
      "text/plain": [
       "        item_description          transaction_date  invoice_id customer_id  \\\n",
       "0     ORANGE BARLEY 1.5L  2021-12-11T00:00:00.000Z       147.0        BGXA   \n",
       "1       GINGER BEER 1.5L  2021-10-17T00:00:00.000Z       371.0        IA25   \n",
       "2        TONIC PET 500ML  2021-12-13T00:00:00.000Z       484.0        VN7V   \n",
       "3          CREAM SODA 1L  2021-12-13T00:00:00.000Z       484.0        VN7V   \n",
       "4  STRAWBERRY MILK 180ML  2021-10-23T00:00:00.000Z      1310.0        7S00   \n",
       "\n",
       "   shop_id  item_price  quantity_sold  shop_area_sq_ft shop_profile  \\\n",
       "0  SHOP008         220              2              678     Moderate   \n",
       "1  SHOP112         220              2              668     Moderate   \n",
       "2  SHOP008         160              2              678     Moderate   \n",
       "3  SHOP008         150              2              678     Moderate   \n",
       "4  SHOP112         210              5              668     Moderate   \n",
       "\n",
       "   total_sales  transaction_month  \n",
       "0          440                 12  \n",
       "1          440                 10  \n",
       "2          320                 12  \n",
       "3          300                 12  \n",
       "4         1050                 10  "
      ]
     },
     "execution_count": 7,
     "metadata": {},
     "output_type": "execute_result"
    }
   ],
   "source": [
    "training_data.head()"
   ]
  },
  {
   "cell_type": "code",
   "execution_count": 8,
   "metadata": {},
   "outputs": [
    {
     "name": "stdout",
     "output_type": "stream",
     "text": [
      "<class 'pandas.core.frame.DataFrame'>\n",
      "Int64Index: 473974 entries, 0 to 473973\n",
      "Data columns (total 9 columns):\n",
      " #   Column            Non-Null Count   Dtype  \n",
      "---  ------            --------------   -----  \n",
      " 0   item_description  438046 non-null  object \n",
      " 1   transaction_date  473974 non-null  object \n",
      " 2   invoice_id        467654 non-null  float64\n",
      " 3   customer_id       473974 non-null  object \n",
      " 4   shop_id           473974 non-null  object \n",
      " 5   item_price        473974 non-null  int64  \n",
      " 6   quantity_sold     473974 non-null  int64  \n",
      " 7   shop_area_sq_ft   473974 non-null  int64  \n",
      " 8   shop_profile      387341 non-null  object \n",
      "dtypes: float64(1), int64(3), object(5)\n",
      "memory usage: 36.2+ MB\n"
     ]
    }
   ],
   "source": [
    "merged_data.info()"
   ]
  },
  {
   "cell_type": "code",
   "execution_count": 9,
   "metadata": {},
   "outputs": [
    {
     "name": "stdout",
     "output_type": "stream",
     "text": [
      "   shop_id  total_sales_sum  total_sales_mean  total_sales_max  \\\n",
      "0  SHOP001          1485285        735.289604           367920   \n",
      "1  SHOP002          3084455        642.594792            82320   \n",
      "2  SHOP003          1922995        525.552063            33660   \n",
      "3  SHOP004          1571700        454.379879            14000   \n",
      "4  SHOP005          2148520        511.430612           117390   \n",
      "\n",
      "   total_sales_min  item_price_sum  item_price_mean  item_price_max  \\\n",
      "0                0          433145       214.428218            5040   \n",
      "1                0         1090135       227.111458            2880   \n",
      "2                0          769685       210.353922            1870   \n",
      "3                0          711050       205.565192            1280   \n",
      "4                0          842995       200.665318            2900   \n",
      "\n",
      "   item_price_min  quantity_sold_sum  quantity_sold_mean  quantity_sold_max  \\\n",
      "0              35               3942            1.951485                 73   \n",
      "1              35               9568            1.993333                 49   \n",
      "2              35               6959            1.901886                 20   \n",
      "3              35               6401            1.850535                 20   \n",
      "4              35               7784            1.852892                 43   \n",
      "\n",
      "   quantity_sold_min  transaction_count  shop_area_sq_ft shop_profile  \n",
      "0                  0               2020              580          Low  \n",
      "1                  0               4800              637         None  \n",
      "2                  0               3659              810         High  \n",
      "3                  0               3459              516          Low  \n",
      "4                  0               4201              617          Low  \n"
     ]
    }
   ],
   "source": [
    "import pandas as pd\n",
    "\n",
    "# Assuming 'merged_data' is your merged dataset\n",
    "# Create a copy of the merged data\n",
    "merged_data_copy = merged_data.copy()\n",
    "\n",
    "# Feature engineering: Calculate total sales\n",
    "merged_data_copy['total_sales'] = merged_data_copy['quantity_sold'] * merged_data_copy['item_price']\n",
    "\n",
    "# Aggregate data by shop_id\n",
    "aggregated_data = merged_data_copy.groupby('shop_id').agg({\n",
    "    'total_sales': ['sum', 'mean', 'max', 'min'],\n",
    "    'item_price': ['sum', 'mean', 'max', 'min'],\n",
    "    'quantity_sold': ['sum', 'mean', 'max', 'min'],\n",
    "    'transaction_date': ['count'],\n",
    "    'shop_area_sq_ft': 'first',\n",
    "    'shop_profile': 'first'\n",
    "}).reset_index()\n",
    "\n",
    "# Flatten the column names after aggregation\n",
    "aggregated_data.columns = ['_'.join(col).strip() for col in aggregated_data.columns.values]\n",
    "\n",
    "# Rename the columns if necessary\n",
    "aggregated_data.rename(columns={\n",
    "    'shop_id_': 'shop_id',\n",
    "    'transaction_date_count': 'transaction_count',\n",
    "    'shop_area_sq_ft_first': 'shop_area_sq_ft',\n",
    "    'shop_profile_first': 'shop_profile'\n",
    "}, inplace=True)\n",
    "\n",
    "# Display the aggregated data\n",
    "print(aggregated_data.head())\n",
    "\n"
   ]
  },
  {
   "cell_type": "code",
   "execution_count": null,
   "metadata": {},
   "outputs": [],
   "source": []
  }
 ],
 "metadata": {
  "kernelspec": {
   "display_name": "Python 3",
   "language": "python",
   "name": "python3"
  },
  "language_info": {
   "codemirror_mode": {
    "name": "ipython",
    "version": 3
   },
   "file_extension": ".py",
   "mimetype": "text/x-python",
   "name": "python",
   "nbconvert_exporter": "python",
   "pygments_lexer": "ipython3",
   "version": "3.9.13"
  },
  "orig_nbformat": 4
 },
 "nbformat": 4,
 "nbformat_minor": 2
}
